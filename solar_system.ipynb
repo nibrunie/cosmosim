{
  "nbformat": 4,
  "nbformat_minor": 0,
  "metadata": {
    "colab": {
      "provenance": [],
      "authorship_tag": "ABX9TyO+XysLZL3kohwEo7hEMiIj",
      "include_colab_link": true
    },
    "kernelspec": {
      "name": "python3",
      "display_name": "Python 3"
    },
    "language_info": {
      "name": "python"
    }
  },
  "cells": [
    {
      "cell_type": "markdown",
      "metadata": {
        "id": "view-in-github",
        "colab_type": "text"
      },
      "source": [
        "<a href=\"https://colab.research.google.com/github/nibrunie/cosmosim/blob/master/solar_system.ipynb\" target=\"_parent\"><img src=\"https://colab.research.google.com/assets/colab-badge.svg\" alt=\"Open In Colab\"/></a>"
      ]
    },
    {
      "cell_type": "code",
      "execution_count": 1,
      "metadata": {
        "id": "WdqZLAnRwmeK"
      },
      "outputs": [],
      "source": [
        "import numpy as np\n",
        "import matplotlib.pyplot as plt\n",
        "import matplotlib.animation as animation\n",
        "import random\n",
        "import argparse\n",
        "import math"
      ]
    },
    {
      "cell_type": "code",
      "source": [
        "dt = 10000.0#0.01\n",
        "CST_G = 6.67408e-11 # m^3.kg^-1.s^-2\n",
        "\n",
        "# number of simulated steps\n",
        "NUM_STEPS = 10000\n",
        "\n",
        "SUN_MASS = 1.989e30 # kg\n",
        "MOON_MASS = 7.34767309e22 # kg\n",
        "ASTRO_UNIT = 1.49597e11 # m\n",
        "\n",
        "VENUS_MASS = 4.87e24 # kg\n",
        "VENUS_RADIUS = 1.08e11 # meters\n",
        "VENUS_ORBITAL_PERIOD = 224.7 # days\n",
        "\n",
        "EARTH_MASS = 5.972e24 # kg\n",
        "\n",
        "# https://nssdc.gsfc.nasa.gov/planetary/factsheet/marsfact.html\n",
        "MARS_MASS = 6.39e23\n",
        "MARS_RADIUS = 2.2792e11 # semi-major axis\n",
        "MARS_YEAR = 687.973 # days, tropical orbit period\n",
        "\n",
        "JUPITER_MASS = SUN_MASS # 1.898e27\n",
        "JUPITER_ORBITAL_RADIUS = 7.786e11\n",
        "JUPITER_ORBITAL_PERIOD = 4331\n",
        "\n",
        "SATURN_MASS = 5.68e26\n",
        "SATURN_ORBITAL_RADIUS = 1.4335e12\n",
        "SATURN_ORBITAL_PERIOD = 10747"
      ],
      "metadata": {
        "id": "zT-RLxsswzU6"
      },
      "execution_count": 2,
      "outputs": []
    }
  ]
}